{
  "nbformat": 4,
  "nbformat_minor": 0,
  "metadata": {
    "colab": {
      "name": "GBoosting on Decision Trees.ipynb",
      "provenance": [],
      "collapsed_sections": [],
      "include_colab_link": true
    },
    "kernelspec": {
      "name": "python3",
      "display_name": "Python 3"
    },
    "accelerator": "GPU"
  },
  "cells": [
    {
      "cell_type": "markdown",
      "metadata": {
        "id": "view-in-github",
        "colab_type": "text"
      },
      "source": [
        "<a href=\"https://colab.research.google.com/github/A-Leus/A/blob/master/GBoosting_on_Decision_Trees.ipynb\" target=\"_parent\"><img src=\"https://colab.research.google.com/assets/colab-badge.svg\" alt=\"Open In Colab\"/></a>"
      ]
    },
    {
      "cell_type": "code",
      "metadata": {
        "id": "FMhLTTnktcWW",
        "colab_type": "code",
        "colab": {}
      },
      "source": [
        "from IPython.display import HTML, display\n",
        "\n",
        "def set_css():\n",
        "  display(HTML('''\n",
        "  <style>\n",
        "    pre {\n",
        "        white-space: pre-wrap;\n",
        "    }\n",
        "  </style>\n",
        "  '''))\n",
        "get_ipython().events.register('pre_run_cell', set_css)"
      ],
      "execution_count": 1,
      "outputs": []
    },
    {
      "cell_type": "code",
      "metadata": {
        "id": "odfFmmbbteia",
        "colab_type": "code",
        "colab": {
          "base_uri": "https://localhost:8080/",
          "height": 680
        },
        "outputId": "7cb24966-e008-47e6-bdc0-15c24debd1e4"
      },
      "source": [
        "%matplotlib inline\n",
        "import pandas as pd\n",
        "import matplotlib.pyplot as plt\n",
        "import os\n",
        "import requests\n",
        "from datetime import datetime as dt\n",
        "import json\n",
        "from functools import reduce\n",
        "import tqdm\n",
        "!pip install catboost\n",
        "from catboost import CatBoostClassifier\n",
        "!pip install yfinance\n",
        "import yfinance as yf\n",
        "import numpy as np\n",
        "# !pip install wordcloud\n",
        "from PIL import Image\n",
        "from wordcloud import WordCloud, STOPWORDS, ImageColorGenerator\n",
        "from tqdm import tqdm\n",
        "import bz2\n",
        "import _pickle as cPickle\n",
        "import re"
      ],
      "execution_count": 2,
      "outputs": [
        {
          "output_type": "display_data",
          "data": {
            "text/html": [
              "\n",
              "  <style>\n",
              "    pre {\n",
              "        white-space: pre-wrap;\n",
              "    }\n",
              "  </style>\n",
              "  "
            ],
            "text/plain": [
              "<IPython.core.display.HTML object>"
            ]
          },
          "metadata": {
            "tags": []
          }
        },
        {
          "output_type": "stream",
          "text": [
            "Collecting catboost\n",
            "\u001b[?25l  Downloading https://files.pythonhosted.org/packages/90/86/c3dcb600b4f9e7584ed90ea9d30a717fb5c0111574675f442c3e7bc19535/catboost-0.24.1-cp36-none-manylinux1_x86_64.whl (66.1MB)\n",
            "\u001b[K     |████████████████████████████████| 66.1MB 59kB/s \n",
            "\u001b[?25hRequirement already satisfied: scipy in /usr/local/lib/python3.6/dist-packages (from catboost) (1.4.1)\n",
            "Requirement already satisfied: pandas>=0.24.0 in /usr/local/lib/python3.6/dist-packages (from catboost) (1.0.5)\n",
            "Requirement already satisfied: six in /usr/local/lib/python3.6/dist-packages (from catboost) (1.15.0)\n",
            "Requirement already satisfied: plotly in /usr/local/lib/python3.6/dist-packages (from catboost) (4.4.1)\n",
            "Requirement already satisfied: graphviz in /usr/local/lib/python3.6/dist-packages (from catboost) (0.10.1)\n",
            "Requirement already satisfied: numpy>=1.16.0 in /usr/local/lib/python3.6/dist-packages (from catboost) (1.18.5)\n",
            "Requirement already satisfied: matplotlib in /usr/local/lib/python3.6/dist-packages (from catboost) (3.2.2)\n",
            "Requirement already satisfied: python-dateutil>=2.6.1 in /usr/local/lib/python3.6/dist-packages (from pandas>=0.24.0->catboost) (2.8.1)\n",
            "Requirement already satisfied: pytz>=2017.2 in /usr/local/lib/python3.6/dist-packages (from pandas>=0.24.0->catboost) (2018.9)\n",
            "Requirement already satisfied: retrying>=1.3.3 in /usr/local/lib/python3.6/dist-packages (from plotly->catboost) (1.3.3)\n",
            "Requirement already satisfied: kiwisolver>=1.0.1 in /usr/local/lib/python3.6/dist-packages (from matplotlib->catboost) (1.2.0)\n",
            "Requirement already satisfied: pyparsing!=2.0.4,!=2.1.2,!=2.1.6,>=2.0.1 in /usr/local/lib/python3.6/dist-packages (from matplotlib->catboost) (2.4.7)\n",
            "Requirement already satisfied: cycler>=0.10 in /usr/local/lib/python3.6/dist-packages (from matplotlib->catboost) (0.10.0)\n",
            "Installing collected packages: catboost\n",
            "Successfully installed catboost-0.24.1\n",
            "Collecting yfinance\n",
            "  Downloading https://files.pythonhosted.org/packages/c2/31/8b374a12b90def92a4e27d0fc595fc43635f395984e36a075244d98bd265/yfinance-0.1.54.tar.gz\n",
            "Requirement already satisfied: pandas>=0.24 in /usr/local/lib/python3.6/dist-packages (from yfinance) (1.0.5)\n",
            "Requirement already satisfied: numpy>=1.15 in /usr/local/lib/python3.6/dist-packages (from yfinance) (1.18.5)\n",
            "Requirement already satisfied: requests>=2.20 in /usr/local/lib/python3.6/dist-packages (from yfinance) (2.23.0)\n",
            "Requirement already satisfied: multitasking>=0.0.7 in /usr/local/lib/python3.6/dist-packages (from yfinance) (0.0.9)\n",
            "Requirement already satisfied: python-dateutil>=2.6.1 in /usr/local/lib/python3.6/dist-packages (from pandas>=0.24->yfinance) (2.8.1)\n",
            "Requirement already satisfied: pytz>=2017.2 in /usr/local/lib/python3.6/dist-packages (from pandas>=0.24->yfinance) (2018.9)\n",
            "Requirement already satisfied: certifi>=2017.4.17 in /usr/local/lib/python3.6/dist-packages (from requests>=2.20->yfinance) (2020.6.20)\n",
            "Requirement already satisfied: idna<3,>=2.5 in /usr/local/lib/python3.6/dist-packages (from requests>=2.20->yfinance) (2.10)\n",
            "Requirement already satisfied: urllib3!=1.25.0,!=1.25.1,<1.26,>=1.21.1 in /usr/local/lib/python3.6/dist-packages (from requests>=2.20->yfinance) (1.24.3)\n",
            "Requirement already satisfied: chardet<4,>=3.0.2 in /usr/local/lib/python3.6/dist-packages (from requests>=2.20->yfinance) (3.0.4)\n",
            "Requirement already satisfied: six>=1.5 in /usr/local/lib/python3.6/dist-packages (from python-dateutil>=2.6.1->pandas>=0.24->yfinance) (1.15.0)\n",
            "Building wheels for collected packages: yfinance\n",
            "  Building wheel for yfinance (setup.py) ... \u001b[?25l\u001b[?25hdone\n",
            "  Created wheel for yfinance: filename=yfinance-0.1.54-py2.py3-none-any.whl size=22409 sha256=1af041e24416955ed1039cd09a4e1247e7d4030193f45f7b18dd3362c6e2d538\n",
            "  Stored in directory: /root/.cache/pip/wheels/f9/e3/5b/ec24dd2984b12d61e0abf26289746c2436a0e7844f26f2515c\n",
            "Successfully built yfinance\n",
            "Installing collected packages: yfinance\n",
            "Successfully installed yfinance-0.1.54\n"
          ],
          "name": "stdout"
        }
      ]
    },
    {
      "cell_type": "code",
      "metadata": {
        "id": "Jlg5QqxIGxGx",
        "colab_type": "code",
        "colab": {
          "base_uri": "https://localhost:8080/",
          "height": 139
        },
        "outputId": "e7b08d20-0b21-4ac1-c4de-8d45f57b41eb"
      },
      "source": [
        "from google.colab import drive\n",
        "drive.mount('/content/drive')"
      ],
      "execution_count": 3,
      "outputs": [
        {
          "output_type": "display_data",
          "data": {
            "text/html": [
              "\n",
              "  <style>\n",
              "    pre {\n",
              "        white-space: pre-wrap;\n",
              "    }\n",
              "  </style>\n",
              "  "
            ],
            "text/plain": [
              "<IPython.core.display.HTML object>"
            ]
          },
          "metadata": {
            "tags": []
          }
        },
        {
          "output_type": "stream",
          "text": [
            "Go to this URL in a browser: https://accounts.google.com/o/oauth2/auth?client_id=947318989803-6bn6qk8qdgf4n4g3pfee6491hc0brc4i.apps.googleusercontent.com&redirect_uri=urn%3aietf%3awg%3aoauth%3a2.0%3aoob&scope=email%20https%3a%2f%2fwww.googleapis.com%2fauth%2fdocs.test%20https%3a%2f%2fwww.googleapis.com%2fauth%2fdrive%20https%3a%2f%2fwww.googleapis.com%2fauth%2fdrive.photos.readonly%20https%3a%2f%2fwww.googleapis.com%2fauth%2fpeopleapi.readonly&response_type=code\n",
            "\n",
            "Enter your authorization code:\n",
            "··········\n",
            "Mounted at /content/drive\n"
          ],
          "name": "stdout"
        }
      ]
    },
    {
      "cell_type": "code",
      "metadata": {
        "id": "Gu6O0EbQKwkw",
        "colab_type": "code",
        "colab": {
          "base_uri": "https://localhost:8080/",
          "height": 17
        },
        "outputId": "177d9ace-3db5-4e34-c3e9-fd338b5181e7"
      },
      "source": [
        "\n",
        "SOURCE_DIR = '/content/drive/My Drive/stock_news_api/snapi_tickersdb'\n",
        "ROOT_DIR='/content/drive/My Drive/'"
      ],
      "execution_count": 4,
      "outputs": [
        {
          "output_type": "display_data",
          "data": {
            "text/html": [
              "\n",
              "  <style>\n",
              "    pre {\n",
              "        white-space: pre-wrap;\n",
              "    }\n",
              "  </style>\n",
              "  "
            ],
            "text/plain": [
              "<IPython.core.display.HTML object>"
            ]
          },
          "metadata": {
            "tags": []
          }
        }
      ]
    },
    {
      "cell_type": "code",
      "metadata": {
        "id": "yQDEBYKPt_bq",
        "colab_type": "code",
        "colab": {
          "base_uri": "https://localhost:8080/",
          "height": 17
        },
        "outputId": "c790619b-6852-4bc9-8f87-debc21b8a2e0"
      },
      "source": [
        "file_name_compiled = os.path.join('/content/drive/My Drive/', 'snapi_all_headlines.pkl')\n",
        "if os.path.isfile(file_name_compiled):\n",
        "  df = pd.read_pickle(file_name_compiled)\n",
        "else:\n",
        "  import os\n",
        "  import glob\n",
        "  df = pd.DataFrame()\n",
        "  file_names = glob.glob(os.path.join(SOURCE_DIR, \"*.csv\"))\n",
        "\n",
        "  for file in file_names:\n",
        "      cdf= pd.DataFrame()\n",
        "      print(file)\n",
        "      cdf = pd.read_csv(file, low_memory=False)\n",
        "      cdf= cdf.drop(df.columns[0:4], axis =1, inplace=False)\n",
        "      cdf['date'] = pd.to_datetime(cdf['date'],errors='coerce')\n",
        "      cdf.sort_values(['date'],ascending=False)\n",
        "      df=df.append(cdf)\n",
        "      # df.set_index('date')\n",
        "  df.to_pickle(file_name_compiled)"
      ],
      "execution_count": 5,
      "outputs": [
        {
          "output_type": "display_data",
          "data": {
            "text/html": [
              "\n",
              "  <style>\n",
              "    pre {\n",
              "        white-space: pre-wrap;\n",
              "    }\n",
              "  </style>\n",
              "  "
            ],
            "text/plain": [
              "<IPython.core.display.HTML object>"
            ]
          },
          "metadata": {
            "tags": []
          }
        }
      ]
    },
    {
      "cell_type": "code",
      "metadata": {
        "id": "lTFn3FkcLh-R",
        "colab_type": "code",
        "colab": {
          "base_uri": "https://localhost:8080/",
          "height": 802
        },
        "outputId": "8a6df210-b186-4435-f04f-a519de255869"
      },
      "source": [
        "df.head()"
      ],
      "execution_count": 6,
      "outputs": [
        {
          "output_type": "display_data",
          "data": {
            "text/html": [
              "\n",
              "  <style>\n",
              "    pre {\n",
              "        white-space: pre-wrap;\n",
              "    }\n",
              "  </style>\n",
              "  "
            ],
            "text/plain": [
              "<IPython.core.display.HTML object>"
            ]
          },
          "metadata": {
            "tags": []
          }
        },
        {
          "output_type": "execute_result",
          "data": {
            "text/html": [
              "<div>\n",
              "<style scoped>\n",
              "    .dataframe tbody tr th:only-of-type {\n",
              "        vertical-align: middle;\n",
              "    }\n",
              "\n",
              "    .dataframe tbody tr th {\n",
              "        vertical-align: top;\n",
              "    }\n",
              "\n",
              "    .dataframe thead th {\n",
              "        text-align: right;\n",
              "    }\n",
              "</style>\n",
              "<table border=\"1\" class=\"dataframe\">\n",
              "  <thead>\n",
              "    <tr style=\"text-align: right;\">\n",
              "      <th></th>\n",
              "      <th>Unnamed: 0</th>\n",
              "      <th>ticker</th>\n",
              "      <th>news_url</th>\n",
              "      <th>image_url</th>\n",
              "      <th>title</th>\n",
              "      <th>text</th>\n",
              "      <th>sentiment</th>\n",
              "      <th>source</th>\n",
              "      <th>date</th>\n",
              "      <th>type</th>\n",
              "      <th>topics</th>\n",
              "      <th>tickers</th>\n",
              "    </tr>\n",
              "  </thead>\n",
              "  <tbody>\n",
              "    <tr>\n",
              "      <th>0</th>\n",
              "      <td>0.0</td>\n",
              "      <td>JBLU</td>\n",
              "      <td>https://www.cnn.com/2020/09/01/business/airlin...</td>\n",
              "      <td>https://cdn.snapi.dev/images/v1/y/7/2008311102...</td>\n",
              "      <td>The airline industry could shrink by half to s...</td>\n",
              "      <td>The US airline industry needs to shrink its la...</td>\n",
              "      <td>Neutral</td>\n",
              "      <td>CNN Business</td>\n",
              "      <td>2020-09-01 08:14:24-04:00</td>\n",
              "      <td>Article</td>\n",
              "      <td>[]</td>\n",
              "      <td>['AAL', 'DAL', 'JBLU', 'LUV', 'UAL']</td>\n",
              "    </tr>\n",
              "    <tr>\n",
              "      <th>1</th>\n",
              "      <td>0.0</td>\n",
              "      <td>JBLU</td>\n",
              "      <td>https://www.marketwatch.com/story/airline-stoc...</td>\n",
              "      <td>https://cdn.snapi.dev/images/v1/6/i/airline8.jpg</td>\n",
              "      <td>Airline stocks sink as analyst says United's m...</td>\n",
              "      <td>Shares of airline companies traded broadly low...</td>\n",
              "      <td>Negative</td>\n",
              "      <td>Market Watch</td>\n",
              "      <td>2020-08-31 13:58:53-04:00</td>\n",
              "      <td>Article</td>\n",
              "      <td>[]</td>\n",
              "      <td>['AAL', 'DAL', 'JBLU', 'LUV', 'UAL', 'JETS']</td>\n",
              "    </tr>\n",
              "    <tr>\n",
              "      <th>2</th>\n",
              "      <td>0.0</td>\n",
              "      <td>JBLU</td>\n",
              "      <td>https://www.fool.com/investing/2020/08/27/sp-5...</td>\n",
              "      <td>https://cdn.snapi.dev/images/v1/y/z/urlhttps3a...</td>\n",
              "      <td>S&amp;P 500 Airline Stocks, Cruise Stocks Surge on...</td>\n",
              "      <td>A big change in Fed policy is good for stocks,...</td>\n",
              "      <td>Positive</td>\n",
              "      <td>The Motley Fool</td>\n",
              "      <td>2020-08-27 17:58:00-04:00</td>\n",
              "      <td>Article</td>\n",
              "      <td>[]</td>\n",
              "      <td>['AAL', 'CCL', 'DAL', 'JBLU', 'LUV', 'NCLH', '...</td>\n",
              "    </tr>\n",
              "    <tr>\n",
              "      <th>3</th>\n",
              "      <td>0.0</td>\n",
              "      <td>JBLU</td>\n",
              "      <td>https://www.fool.com/investing/2020/08/27/why-...</td>\n",
              "      <td>https://cdn.snapi.dev/images/v1/b/w/urlhttps3a...</td>\n",
              "      <td>Why Airline Shares Are Higher Today (Aug 27)</td>\n",
              "      <td>A COVID quick test could help reassure uncerta...</td>\n",
              "      <td>Positive</td>\n",
              "      <td>The Motley Fool</td>\n",
              "      <td>2020-08-27 13:25:00-04:00</td>\n",
              "      <td>Article</td>\n",
              "      <td>[]</td>\n",
              "      <td>['AAL', 'DAL', 'JBLU', 'LUV', 'SAVE', 'UAL']</td>\n",
              "    </tr>\n",
              "    <tr>\n",
              "      <th>4</th>\n",
              "      <td>0.0</td>\n",
              "      <td>JBLU</td>\n",
              "      <td>https://www.zacks.com/stock/news/1048181/why-i...</td>\n",
              "      <td>https://cdn.snapi.dev/images/v1/0/m/airline7.jpg</td>\n",
              "      <td>Why Is JetBlue (JBLU) Up 12.1% Since Last Earn...</td>\n",
              "      <td>JetBlue (JBLU) reported earnings 30 days ago. ...</td>\n",
              "      <td>Positive</td>\n",
              "      <td>Zacks Investment Research</td>\n",
              "      <td>2020-08-27 11:31:26-04:00</td>\n",
              "      <td>Article</td>\n",
              "      <td>[]</td>\n",
              "      <td>['JBLU']</td>\n",
              "    </tr>\n",
              "  </tbody>\n",
              "</table>\n",
              "</div>"
            ],
            "text/plain": [
              "   Unnamed: 0 ticker  ... topics                                            tickers\n",
              "0         0.0   JBLU  ...     []               ['AAL', 'DAL', 'JBLU', 'LUV', 'UAL']\n",
              "1         0.0   JBLU  ...     []       ['AAL', 'DAL', 'JBLU', 'LUV', 'UAL', 'JETS']\n",
              "2         0.0   JBLU  ...     []  ['AAL', 'CCL', 'DAL', 'JBLU', 'LUV', 'NCLH', '...\n",
              "3         0.0   JBLU  ...     []       ['AAL', 'DAL', 'JBLU', 'LUV', 'SAVE', 'UAL']\n",
              "4         0.0   JBLU  ...     []                                           ['JBLU']\n",
              "\n",
              "[5 rows x 12 columns]"
            ]
          },
          "metadata": {
            "tags": []
          },
          "execution_count": 6
        }
      ]
    },
    {
      "cell_type": "code",
      "metadata": {
        "id": "tiSpLLMrjGxi",
        "colab_type": "code",
        "colab": {
          "base_uri": "https://localhost:8080/",
          "height": 952
        },
        "outputId": "3854eaf4-93a5-49d3-fa0f-9a82c979e965"
      },
      "source": [
        "df['source'].value_counts()\n",
        "# len(df)"
      ],
      "execution_count": 7,
      "outputs": [
        {
          "output_type": "display_data",
          "data": {
            "text/html": [
              "\n",
              "  <style>\n",
              "    pre {\n",
              "        white-space: pre-wrap;\n",
              "    }\n",
              "  </style>\n",
              "  "
            ],
            "text/plain": [
              "<IPython.core.display.HTML object>"
            ]
          },
          "metadata": {
            "tags": []
          }
        },
        {
          "output_type": "execute_result",
          "data": {
            "text/plain": [
              "Zacks Investment Research        74836\n",
              "The Motley Fool                  55081\n",
              "Seeking Alpha                    27430\n",
              "CNBC Television                  24022\n",
              "InvestorPlace                    23468\n",
              "CNBC                             14953\n",
              "Benzinga                         14305\n",
              "Reuters                          13498\n",
              "GlobeNewsWire                    12301\n",
              "Market Watch                     11051\n",
              "Forbes                           10509\n",
              "Investors Business Daily          7210\n",
              "24/7 Wall Street                  6799\n",
              "GuruFocus                         4862\n",
              "TechCrunch                        4652\n",
              "Business Wire                     4530\n",
              "PRNewsWire                        4243\n",
              "ETF Trends                        3747\n",
              "CNET                              3641\n",
              "Investopedia                      3401\n",
              "CNN Business                      2776\n",
              "Yahoo Finance                     2555\n",
              "New York Post                     2311\n",
              "Bloomberg Markets and Finance     2304\n",
              "Fox Business                      2101\n",
              "GeekWire                          1560\n",
              "Deadline                          1365\n",
              "Bloomberg Technology              1239\n",
              "The Guardian                      1102\n",
              "Fast Company                      1020\n",
              "NYTimes                            882\n",
              "CNBC International TV              856\n",
              "Invezz                             816\n",
              "Newsfile Corp                      754\n",
              "The Street                         703\n",
              "Skynews                            487\n",
              "Kiplinger                          392\n",
              "See It Market                      301\n",
              "Engadget                           265\n",
              "Morningstar                        188\n",
              "Iris                               135\n",
              "Digital Trends                     106\n",
              "The Verge                          103\n",
              "CNN                                 95\n",
              "Huffington Post                     82\n",
              "ETFcom                              76\n",
              "The Dog of Wall Street              66\n",
              "Wall Street Journal                 66\n",
              "Cheddar                             58\n",
              "Business Insider                    47\n",
              "Cnet                                 6\n",
              "CNet                                 6\n",
              "cnbc television                      2\n",
              "Discount The Obvious                 1\n",
              "Name: source, dtype: int64"
            ]
          },
          "metadata": {
            "tags": []
          },
          "execution_count": 7
        }
      ]
    },
    {
      "cell_type": "code",
      "metadata": {
        "id": "NUT8Vs_ZjeUV",
        "colab_type": "code",
        "colab": {
          "base_uri": "https://localhost:8080/",
          "height": 85
        },
        "outputId": "05c2a67a-d9d2-4b31-c5fe-34f579154e3c"
      },
      "source": [
        "df['sentiment'].value_counts()"
      ],
      "execution_count": 8,
      "outputs": [
        {
          "output_type": "display_data",
          "data": {
            "text/html": [
              "\n",
              "  <style>\n",
              "    pre {\n",
              "        white-space: pre-wrap;\n",
              "    }\n",
              "  </style>\n",
              "  "
            ],
            "text/plain": [
              "<IPython.core.display.HTML object>"
            ]
          },
          "metadata": {
            "tags": []
          }
        },
        {
          "output_type": "execute_result",
          "data": {
            "text/plain": [
              "Positive    166062\n",
              "Neutral     119948\n",
              "Negative     63355\n",
              "Name: sentiment, dtype: int64"
            ]
          },
          "metadata": {
            "tags": []
          },
          "execution_count": 8
        }
      ]
    },
    {
      "cell_type": "markdown",
      "metadata": {
        "id": "lJf_usm5iegh",
        "colab_type": "text"
      },
      "source": [
        ""
      ]
    },
    {
      "cell_type": "code",
      "metadata": {
        "id": "glmJmG7BkfhI",
        "colab_type": "code",
        "colab": {
          "base_uri": "https://localhost:8080/",
          "height": 17
        },
        "outputId": "56bfc759-48b0-4d20-b77c-13b2a17decc2"
      },
      "source": [
        "# df_p= df[df.sentiment =='Positive']\n",
        "# len(df_p)"
      ],
      "execution_count": 9,
      "outputs": [
        {
          "output_type": "display_data",
          "data": {
            "text/html": [
              "\n",
              "  <style>\n",
              "    pre {\n",
              "        white-space: pre-wrap;\n",
              "    }\n",
              "  </style>\n",
              "  "
            ],
            "text/plain": [
              "<IPython.core.display.HTML object>"
            ]
          },
          "metadata": {
            "tags": []
          }
        }
      ]
    },
    {
      "cell_type": "code",
      "metadata": {
        "id": "tf8VXgcQisEU",
        "colab_type": "code",
        "colab": {
          "base_uri": "https://localhost:8080/",
          "height": 85
        },
        "outputId": "6850a5ca-89da-4654-cd9e-2294963208f0"
      },
      "source": [
        "import nltk\n",
        "nltk.download('stopwords')\n",
        "nltk.download('punkt')\n",
        "from nltk.corpus import stopwords\n",
        "from nltk.tokenize import word_tokenize\n",
        "stop_words = stopwords.words(\"english\")"
      ],
      "execution_count": 10,
      "outputs": [
        {
          "output_type": "display_data",
          "data": {
            "text/html": [
              "\n",
              "  <style>\n",
              "    pre {\n",
              "        white-space: pre-wrap;\n",
              "    }\n",
              "  </style>\n",
              "  "
            ],
            "text/plain": [
              "<IPython.core.display.HTML object>"
            ]
          },
          "metadata": {
            "tags": []
          }
        },
        {
          "output_type": "stream",
          "text": [
            "[nltk_data] Downloading package stopwords to /root/nltk_data...\n",
            "[nltk_data]   Unzipping corpora/stopwords.zip.\n",
            "[nltk_data] Downloading package punkt to /root/nltk_data...\n",
            "[nltk_data]   Unzipping tokenizers/punkt.zip.\n"
          ],
          "name": "stdout"
        }
      ]
    },
    {
      "cell_type": "code",
      "metadata": {
        "id": "29KjNaH4ifom",
        "colab_type": "code",
        "colab": {
          "base_uri": "https://localhost:8080/",
          "height": 17
        },
        "outputId": "ff63eebb-6019-4aeb-9ffb-dd40921b0f4f"
      },
      "source": [
        "def preprocess(text, stem=False):\n",
        "    # Remove link,user and special characters\n",
        "    TEXT_CLEANING_RE = \"@\\S+|https?:\\S+|http?:\\S|[^A-Za-z0-9]+\"\n",
        "    text = re.sub(TEXT_CLEANING_RE, ' ', str(text).lower()).strip()\n",
        "    tokens = []\n",
        "    for token in text.split():\n",
        "        if token not in stop_words:\n",
        "            if stem:\n",
        "                tokens.append(stemmer.stem(token))\n",
        "            else:\n",
        "                tokens.append(token)\n",
        "\n",
        "    return \" \".join(tokens)"
      ],
      "execution_count": 11,
      "outputs": [
        {
          "output_type": "display_data",
          "data": {
            "text/html": [
              "\n",
              "  <style>\n",
              "    pre {\n",
              "        white-space: pre-wrap;\n",
              "    }\n",
              "  </style>\n",
              "  "
            ],
            "text/plain": [
              "<IPython.core.display.HTML object>"
            ]
          },
          "metadata": {
            "tags": []
          }
        }
      ]
    },
    {
      "cell_type": "code",
      "metadata": {
        "id": "Vq55ENZ5mCwC",
        "colab_type": "code",
        "colab": {
          "base_uri": "https://localhost:8080/",
          "height": 51
        },
        "outputId": "4629154f-3628-4c5a-d72d-2fc2bd33e778"
      },
      "source": [
        "%%time\n",
        "# TEXT CLEANING\n",
        "df.text = df.text.apply(lambda x: preprocess(x))"
      ],
      "execution_count": 12,
      "outputs": [
        {
          "output_type": "display_data",
          "data": {
            "text/html": [
              "\n",
              "  <style>\n",
              "    pre {\n",
              "        white-space: pre-wrap;\n",
              "    }\n",
              "  </style>\n",
              "  "
            ],
            "text/plain": [
              "<IPython.core.display.HTML object>"
            ]
          },
          "metadata": {
            "tags": []
          }
        },
        {
          "output_type": "stream",
          "text": [
            "CPU times: user 18 s, sys: 28.7 ms, total: 18 s\n",
            "Wall time: 18 s\n"
          ],
          "name": "stdout"
        }
      ]
    },
    {
      "cell_type": "code",
      "metadata": {
        "id": "JbStBM2dcJyi",
        "colab_type": "code",
        "colab": {
          "base_uri": "https://localhost:8080/",
          "height": 802
        },
        "outputId": "7a23e3bb-c5ee-4a0e-e284-db2f5caea955"
      },
      "source": [
        "df.head()"
      ],
      "execution_count": 13,
      "outputs": [
        {
          "output_type": "display_data",
          "data": {
            "text/html": [
              "\n",
              "  <style>\n",
              "    pre {\n",
              "        white-space: pre-wrap;\n",
              "    }\n",
              "  </style>\n",
              "  "
            ],
            "text/plain": [
              "<IPython.core.display.HTML object>"
            ]
          },
          "metadata": {
            "tags": []
          }
        },
        {
          "output_type": "execute_result",
          "data": {
            "text/html": [
              "<div>\n",
              "<style scoped>\n",
              "    .dataframe tbody tr th:only-of-type {\n",
              "        vertical-align: middle;\n",
              "    }\n",
              "\n",
              "    .dataframe tbody tr th {\n",
              "        vertical-align: top;\n",
              "    }\n",
              "\n",
              "    .dataframe thead th {\n",
              "        text-align: right;\n",
              "    }\n",
              "</style>\n",
              "<table border=\"1\" class=\"dataframe\">\n",
              "  <thead>\n",
              "    <tr style=\"text-align: right;\">\n",
              "      <th></th>\n",
              "      <th>Unnamed: 0</th>\n",
              "      <th>ticker</th>\n",
              "      <th>news_url</th>\n",
              "      <th>image_url</th>\n",
              "      <th>title</th>\n",
              "      <th>text</th>\n",
              "      <th>sentiment</th>\n",
              "      <th>source</th>\n",
              "      <th>date</th>\n",
              "      <th>type</th>\n",
              "      <th>topics</th>\n",
              "      <th>tickers</th>\n",
              "    </tr>\n",
              "  </thead>\n",
              "  <tbody>\n",
              "    <tr>\n",
              "      <th>0</th>\n",
              "      <td>0.0</td>\n",
              "      <td>JBLU</td>\n",
              "      <td>https://www.cnn.com/2020/09/01/business/airlin...</td>\n",
              "      <td>https://cdn.snapi.dev/images/v1/y/7/2008311102...</td>\n",
              "      <td>The airline industry could shrink by half to s...</td>\n",
              "      <td>us airline industry needs shrink labor costs m...</td>\n",
              "      <td>Neutral</td>\n",
              "      <td>CNN Business</td>\n",
              "      <td>2020-09-01 08:14:24-04:00</td>\n",
              "      <td>Article</td>\n",
              "      <td>[]</td>\n",
              "      <td>['AAL', 'DAL', 'JBLU', 'LUV', 'UAL']</td>\n",
              "    </tr>\n",
              "    <tr>\n",
              "      <th>1</th>\n",
              "      <td>0.0</td>\n",
              "      <td>JBLU</td>\n",
              "      <td>https://www.marketwatch.com/story/airline-stoc...</td>\n",
              "      <td>https://cdn.snapi.dev/images/v1/6/i/airline8.jpg</td>\n",
              "      <td>Airline stocks sink as analyst says United's m...</td>\n",
              "      <td>shares airline companies traded broadly lower ...</td>\n",
              "      <td>Negative</td>\n",
              "      <td>Market Watch</td>\n",
              "      <td>2020-08-31 13:58:53-04:00</td>\n",
              "      <td>Article</td>\n",
              "      <td>[]</td>\n",
              "      <td>['AAL', 'DAL', 'JBLU', 'LUV', 'UAL', 'JETS']</td>\n",
              "    </tr>\n",
              "    <tr>\n",
              "      <th>2</th>\n",
              "      <td>0.0</td>\n",
              "      <td>JBLU</td>\n",
              "      <td>https://www.fool.com/investing/2020/08/27/sp-5...</td>\n",
              "      <td>https://cdn.snapi.dev/images/v1/y/z/urlhttps3a...</td>\n",
              "      <td>S&amp;P 500 Airline Stocks, Cruise Stocks Surge on...</td>\n",
              "      <td>big change fed policy good stocks 15 minute co...</td>\n",
              "      <td>Positive</td>\n",
              "      <td>The Motley Fool</td>\n",
              "      <td>2020-08-27 17:58:00-04:00</td>\n",
              "      <td>Article</td>\n",
              "      <td>[]</td>\n",
              "      <td>['AAL', 'CCL', 'DAL', 'JBLU', 'LUV', 'NCLH', '...</td>\n",
              "    </tr>\n",
              "    <tr>\n",
              "      <th>3</th>\n",
              "      <td>0.0</td>\n",
              "      <td>JBLU</td>\n",
              "      <td>https://www.fool.com/investing/2020/08/27/why-...</td>\n",
              "      <td>https://cdn.snapi.dev/images/v1/b/w/urlhttps3a...</td>\n",
              "      <td>Why Airline Shares Are Higher Today (Aug 27)</td>\n",
              "      <td>covid quick test could help reassure uncertain...</td>\n",
              "      <td>Positive</td>\n",
              "      <td>The Motley Fool</td>\n",
              "      <td>2020-08-27 13:25:00-04:00</td>\n",
              "      <td>Article</td>\n",
              "      <td>[]</td>\n",
              "      <td>['AAL', 'DAL', 'JBLU', 'LUV', 'SAVE', 'UAL']</td>\n",
              "    </tr>\n",
              "    <tr>\n",
              "      <th>4</th>\n",
              "      <td>0.0</td>\n",
              "      <td>JBLU</td>\n",
              "      <td>https://www.zacks.com/stock/news/1048181/why-i...</td>\n",
              "      <td>https://cdn.snapi.dev/images/v1/0/m/airline7.jpg</td>\n",
              "      <td>Why Is JetBlue (JBLU) Up 12.1% Since Last Earn...</td>\n",
              "      <td>jetblue jblu reported earnings 30 days ago nex...</td>\n",
              "      <td>Positive</td>\n",
              "      <td>Zacks Investment Research</td>\n",
              "      <td>2020-08-27 11:31:26-04:00</td>\n",
              "      <td>Article</td>\n",
              "      <td>[]</td>\n",
              "      <td>['JBLU']</td>\n",
              "    </tr>\n",
              "  </tbody>\n",
              "</table>\n",
              "</div>"
            ],
            "text/plain": [
              "   Unnamed: 0 ticker  ... topics                                            tickers\n",
              "0         0.0   JBLU  ...     []               ['AAL', 'DAL', 'JBLU', 'LUV', 'UAL']\n",
              "1         0.0   JBLU  ...     []       ['AAL', 'DAL', 'JBLU', 'LUV', 'UAL', 'JETS']\n",
              "2         0.0   JBLU  ...     []  ['AAL', 'CCL', 'DAL', 'JBLU', 'LUV', 'NCLH', '...\n",
              "3         0.0   JBLU  ...     []       ['AAL', 'DAL', 'JBLU', 'LUV', 'SAVE', 'UAL']\n",
              "4         0.0   JBLU  ...     []                                           ['JBLU']\n",
              "\n",
              "[5 rows x 12 columns]"
            ]
          },
          "metadata": {
            "tags": []
          },
          "execution_count": 13
        }
      ]
    },
    {
      "cell_type": "code",
      "metadata": {
        "id": "qc7T_jJizQwU",
        "colab_type": "code",
        "colab": {
          "base_uri": "https://localhost:8080/",
          "height": 17
        },
        "outputId": "5a05f37f-fa00-49ca-d371-d7389b05e35e"
      },
      "source": [
        "df['train'] = np.random.rand(len(df)) < 0.8\n",
        "df['id'] = list(range(len(df)))"
      ],
      "execution_count": 14,
      "outputs": [
        {
          "output_type": "display_data",
          "data": {
            "text/html": [
              "\n",
              "  <style>\n",
              "    pre {\n",
              "        white-space: pre-wrap;\n",
              "    }\n",
              "  </style>\n",
              "  "
            ],
            "text/plain": [
              "<IPython.core.display.HTML object>"
            ]
          },
          "metadata": {
            "tags": []
          }
        }
      ]
    },
    {
      "cell_type": "code",
      "metadata": {
        "id": "rzrdmRnh92zX",
        "colab_type": "code",
        "colab": {
          "base_uri": "https://localhost:8080/",
          "height": 17
        },
        "outputId": "10697a28-0f3a-4b0b-9c87-a5214f0238c7"
      },
      "source": [
        "term_breakup = pd.DataFrame()\n",
        "for sentiment in list(set(df['sentiment'])):\n",
        "  qwe = [x.split() for x in df.loc[(df['train'] == True) & (df['sentiment'] == sentiment), 'text']]\n",
        "  qwe_flat = [] \n",
        "  for qwe_increment in qwe:\n",
        "    qwe_flat.extend(qwe_increment)\n",
        "  term_breakup_increment = pd.DataFrame({\n",
        "      'term': qwe_flat\n",
        "  })\n",
        "  term_breakup_increment['sentiment'] = sentiment\n",
        "  term_breakup = term_breakup.append(\n",
        "    term_breakup_increment\n",
        "  )\n",
        "term_breakup = term_breakup.groupby(['term','sentiment'],  as_index = False, sort = False).size()\n",
        "term_breakup = pd.DataFrame(term_breakup)\n",
        "term_breakup = term_breakup.reset_index()\n",
        "term_breakup = term_breakup.rename(columns = {0:'count'})\n",
        "term_breakup = term_breakup.pivot(index='term', columns='sentiment', values='count')\n",
        "term_breakup = term_breakup.reset_index()\n",
        "term_breakup.loc[np.isnan(term_breakup['Positive']), 'Positive'] = 0\n",
        "term_breakup.loc[np.isnan(term_breakup['Neutral']), 'Neutral'] = 0\n",
        "term_breakup.loc[np.isnan(term_breakup['Negative']), 'Negative'] = 0\n",
        "term_breakup['total'] = term_breakup['Negative'] + term_breakup['Positive'] + term_breakup['Neutral']\n",
        "term_breakup = term_breakup.sort_values('total', ascending=False)\n",
        "term_breakup['Positive'] = term_breakup['Positive'] / term_breakup['total']\n",
        "term_breakup['Negative'] = term_breakup['Negative'] / term_breakup['total']\n",
        "term_breakup['Neutral'] = term_breakup['Neutral'] / term_breakup['total']\n"
      ],
      "execution_count": 15,
      "outputs": [
        {
          "output_type": "display_data",
          "data": {
            "text/html": [
              "\n",
              "  <style>\n",
              "    pre {\n",
              "        white-space: pre-wrap;\n",
              "    }\n",
              "  </style>\n",
              "  "
            ],
            "text/plain": [
              "<IPython.core.display.HTML object>"
            ]
          },
          "metadata": {
            "tags": []
          }
        }
      ]
    },
    {
      "cell_type": "code",
      "metadata": {
        "id": "llFVvF6Ywr_n",
        "colab_type": "code",
        "colab": {
          "base_uri": "https://localhost:8080/",
          "height": 17
        },
        "outputId": "0f982e18-02b3-4981-ea6f-f63b3d365060"
      },
      "source": [
        "train_features_names = [\n",
        "  'Positive_sum_normalised','Positive_sum','Positive_mean','Positive_max','Positive_min',\n",
        "  'Neutral_sum_normalised','Neutral_sum','Neutral_mean','Neutral_max','Neutral_min',\n",
        "  'Negative_sum_normalised','Negative_sum','Negative_mean','Negative_max','Negative_min'\n",
        "]\n",
        "output_feature_name = 'sentiment'\n"
      ],
      "execution_count": 16,
      "outputs": [
        {
          "output_type": "display_data",
          "data": {
            "text/html": [
              "\n",
              "  <style>\n",
              "    pre {\n",
              "        white-space: pre-wrap;\n",
              "    }\n",
              "  </style>\n",
              "  "
            ],
            "text/plain": [
              "<IPython.core.display.HTML object>"
            ]
          },
          "metadata": {
            "tags": []
          }
        }
      ]
    },
    {
      "cell_type": "code",
      "metadata": {
        "id": "n_4fHe43L7Fc",
        "colab_type": "code",
        "colab": {
          "base_uri": "https://localhost:8080/",
          "height": 17
        },
        "outputId": "0bc8adfe-caba-4618-87c3-4d426aa82cce"
      },
      "source": [
        "def prepare_features(\n",
        "  df\n",
        "):\n",
        "\n",
        "  term_breakup_train = pd.DataFrame()\n",
        "\n",
        "  for sentiment in list(set(df['sentiment'])):\n",
        "    qwe = [x.split() for x in df.loc[(df['sentiment'] == sentiment), 'text']]\n",
        "    id = [x for x in df.loc[(df['sentiment'] == sentiment), 'id']]\n",
        "    qwe_flat = [] \n",
        "    id_flat = [] \n",
        "    for qwe_increment_index in range(len(qwe)):\n",
        "      qwe_increment = qwe[qwe_increment_index]\n",
        "      qwe_flat.extend(qwe_increment)\n",
        "      id_flat.extend([id[qwe_increment_index] for i in range(len(qwe_increment))])\n",
        "    term_breakup_increment = pd.DataFrame({\n",
        "        'term': qwe_flat,\n",
        "        'id': id_flat\n",
        "    })\n",
        "    term_breakup_increment['sentiment'] = sentiment\n",
        "    term_breakup_train = term_breakup_train.append(\n",
        "      term_breakup_increment\n",
        "    )\n",
        "\n",
        "  term_breakup_train = pd.merge(\n",
        "      term_breakup_train,\n",
        "      term_breakup,\n",
        "      on = 'term',\n",
        "      how = 'left'\n",
        "  )\n",
        "\n",
        "  term_breakup_train = term_breakup_train.groupby(['id','sentiment'], as_index=False, sort = False).agg({\n",
        "      'Positive': ['sum','mean','max','min'],\n",
        "      'Neutral': ['sum','mean','max','min'],\n",
        "      'Negative': ['sum','mean','max','min']\n",
        "  })\n",
        "\n",
        "  term_breakup_train.columns = term_breakup_train.columns.map('_'.join)\n",
        "\n",
        "  for train_feature_name in train_features_names:\n",
        "    if train_feature_name in term_breakup_train.columns:\n",
        "      term_breakup_train.loc[np.isnan(term_breakup_train[train_feature_name]), train_feature_name] = 0\n",
        "\n",
        "  term_breakup_train['Positive_sum_normalised'] = term_breakup_train['Positive_sum'] / ( term_breakup_train['Positive_sum'] + term_breakup_train['Neutral_sum'] + term_breakup_train['Negative_sum'] )\n",
        "  term_breakup_train['Neutral_sum_normalised'] = term_breakup_train['Neutral_sum'] / ( term_breakup_train['Positive_sum'] + term_breakup_train['Neutral_sum'] + term_breakup_train['Negative_sum'] )\n",
        "  term_breakup_train['Negative_sum_normalised'] = term_breakup_train['Negative_sum'] / ( term_breakup_train['Positive_sum'] + term_breakup_train['Neutral_sum'] + term_breakup_train['Negative_sum'] )\n",
        "\n",
        "  for train_feature_name in train_features_names:\n",
        "    term_breakup_train.loc[np.isnan(term_breakup_train[train_feature_name]), train_feature_name] = 0\n",
        "  return term_breakup_train\n",
        "\n",
        "term_features = prepare_features(df)\n",
        "\n",
        "term_features = pd.merge(\n",
        "    term_features,\n",
        "    df[['id','train']],\n",
        "    left_on = 'id_',\n",
        "    right_on = 'id'\n",
        ")\n",
        "\n",
        "del term_features['id_']\n",
        "term_features = term_features.rename(columns = {'sentiment_':'sentiment'})\n"
      ],
      "execution_count": 17,
      "outputs": [
        {
          "output_type": "display_data",
          "data": {
            "text/html": [
              "\n",
              "  <style>\n",
              "    pre {\n",
              "        white-space: pre-wrap;\n",
              "    }\n",
              "  </style>\n",
              "  "
            ],
            "text/plain": [
              "<IPython.core.display.HTML object>"
            ]
          },
          "metadata": {
            "tags": []
          }
        }
      ]
    },
    {
      "cell_type": "code",
      "metadata": {
        "id": "dbS8VCI0nPke",
        "colab_type": "code",
        "colab": {
          "base_uri": "https://localhost:8080/",
          "height": 1000
        },
        "outputId": "0f1424b2-7a6e-4da1-df6a-7fd8435d49d3"
      },
      "source": [
        "clf = CatBoostClassifier(\n",
        "    iterations=84,\n",
        "    learning_rate=0.03\n",
        "  )\n",
        "clf.fit(\n",
        "  term_features.loc[term_features['train'] == True, train_features_names], \n",
        "  term_features.loc[term_features['train'] == True, output_feature_name],\n",
        "  eval_set=(term_features.loc[term_features['train'] == False, train_features_names], \n",
        "  term_features.loc[term_features['train'] == False, output_feature_name])\n",
        ")\n",
        "term_features['prediction'] = clf.predict(term_features[train_features_names])\n"
      ],
      "execution_count": 38,
      "outputs": [
        {
          "output_type": "display_data",
          "data": {
            "text/html": [
              "\n",
              "  <style>\n",
              "    pre {\n",
              "        white-space: pre-wrap;\n",
              "    }\n",
              "  </style>\n",
              "  "
            ],
            "text/plain": [
              "<IPython.core.display.HTML object>"
            ]
          },
          "metadata": {
            "tags": []
          }
        },
        {
          "output_type": "stream",
          "text": [
            "0:\tlearn: 1.0752674\ttest: 1.0788264\tbest: 1.0788264 (0)\ttotal: 173ms\tremaining: 14.3s\n",
            "1:\tlearn: 1.0538674\ttest: 1.0603833\tbest: 1.0603833 (1)\ttotal: 349ms\tremaining: 14.3s\n",
            "2:\tlearn: 1.0334907\ttest: 1.0432594\tbest: 1.0432594 (2)\ttotal: 537ms\tremaining: 14.5s\n",
            "3:\tlearn: 1.0147783\ttest: 1.0273436\tbest: 1.0273436 (3)\ttotal: 731ms\tremaining: 14.6s\n",
            "4:\tlearn: 0.9971529\ttest: 1.0123360\tbest: 1.0123360 (4)\ttotal: 919ms\tremaining: 14.5s\n",
            "5:\tlearn: 0.9810055\ttest: 0.9986382\tbest: 0.9986382 (5)\ttotal: 1.1s\tremaining: 14.3s\n",
            "6:\tlearn: 0.9655397\ttest: 0.9857617\tbest: 0.9857617 (6)\ttotal: 1.28s\tremaining: 14.1s\n",
            "7:\tlearn: 0.9512743\ttest: 0.9738868\tbest: 0.9738868 (7)\ttotal: 1.45s\tremaining: 13.8s\n",
            "8:\tlearn: 0.9374445\ttest: 0.9624444\tbest: 0.9624444 (8)\ttotal: 1.64s\tremaining: 13.7s\n",
            "9:\tlearn: 0.9244559\ttest: 0.9517725\tbest: 0.9517725 (9)\ttotal: 1.82s\tremaining: 13.5s\n",
            "10:\tlearn: 0.9121914\ttest: 0.9418161\tbest: 0.9418161 (10)\ttotal: 2s\tremaining: 13.3s\n",
            "11:\tlearn: 0.9007816\ttest: 0.9324586\tbest: 0.9324586 (11)\ttotal: 2.18s\tremaining: 13.1s\n",
            "12:\tlearn: 0.8900372\ttest: 0.9234758\tbest: 0.9234758 (12)\ttotal: 2.35s\tremaining: 12.9s\n",
            "13:\tlearn: 0.8795965\ttest: 0.9147302\tbest: 0.9147302 (13)\ttotal: 2.53s\tremaining: 12.6s\n",
            "14:\tlearn: 0.8698131\ttest: 0.9066339\tbest: 0.9066339 (14)\ttotal: 2.72s\tremaining: 12.5s\n",
            "15:\tlearn: 0.8603015\ttest: 0.8991377\tbest: 0.8991377 (15)\ttotal: 2.9s\tremaining: 12.3s\n",
            "16:\tlearn: 0.8513668\ttest: 0.8922092\tbest: 0.8922092 (16)\ttotal: 3.09s\tremaining: 12.2s\n",
            "17:\tlearn: 0.8429748\ttest: 0.8855139\tbest: 0.8855139 (17)\ttotal: 3.26s\tremaining: 12s\n",
            "18:\tlearn: 0.8347128\ttest: 0.8790240\tbest: 0.8790240 (18)\ttotal: 3.45s\tremaining: 11.8s\n",
            "19:\tlearn: 0.8269283\ttest: 0.8727656\tbest: 0.8727656 (19)\ttotal: 3.65s\tremaining: 11.7s\n",
            "20:\tlearn: 0.8194128\ttest: 0.8668991\tbest: 0.8668991 (20)\ttotal: 3.85s\tremaining: 11.5s\n",
            "21:\tlearn: 0.8123583\ttest: 0.8611119\tbest: 0.8611119 (21)\ttotal: 4.02s\tremaining: 11.3s\n",
            "22:\tlearn: 0.8054603\ttest: 0.8558253\tbest: 0.8558253 (22)\ttotal: 4.21s\tremaining: 11.2s\n",
            "23:\tlearn: 0.7990060\ttest: 0.8509793\tbest: 0.8509793 (23)\ttotal: 4.38s\tremaining: 11s\n",
            "24:\tlearn: 0.7927018\ttest: 0.8461181\tbest: 0.8461181 (24)\ttotal: 4.58s\tremaining: 10.8s\n",
            "25:\tlearn: 0.7866781\ttest: 0.8414878\tbest: 0.8414878 (25)\ttotal: 4.77s\tremaining: 10.6s\n",
            "26:\tlearn: 0.7809169\ttest: 0.8371836\tbest: 0.8371836 (26)\ttotal: 4.95s\tremaining: 10.5s\n",
            "27:\tlearn: 0.7753903\ttest: 0.8331148\tbest: 0.8331148 (27)\ttotal: 5.13s\tremaining: 10.3s\n",
            "28:\tlearn: 0.7702996\ttest: 0.8293788\tbest: 0.8293788 (28)\ttotal: 5.32s\tremaining: 10.1s\n",
            "29:\tlearn: 0.7653322\ttest: 0.8256356\tbest: 0.8256356 (29)\ttotal: 5.5s\tremaining: 9.9s\n",
            "30:\tlearn: 0.7604333\ttest: 0.8221342\tbest: 0.8221342 (30)\ttotal: 5.69s\tremaining: 9.72s\n",
            "31:\tlearn: 0.7559855\ttest: 0.8188185\tbest: 0.8188185 (31)\ttotal: 5.88s\tremaining: 9.55s\n",
            "32:\tlearn: 0.7515838\ttest: 0.8156675\tbest: 0.8156675 (32)\ttotal: 6.07s\tremaining: 9.38s\n",
            "33:\tlearn: 0.7472053\ttest: 0.8126405\tbest: 0.8126405 (33)\ttotal: 6.24s\tremaining: 9.18s\n",
            "34:\tlearn: 0.7433260\ttest: 0.8098635\tbest: 0.8098635 (34)\ttotal: 6.43s\tremaining: 9.01s\n",
            "35:\tlearn: 0.7394091\ttest: 0.8070890\tbest: 0.8070890 (35)\ttotal: 6.61s\tremaining: 8.81s\n",
            "36:\tlearn: 0.7355142\ttest: 0.8045361\tbest: 0.8045361 (36)\ttotal: 6.81s\tremaining: 8.65s\n",
            "37:\tlearn: 0.7321138\ttest: 0.8020470\tbest: 0.8020470 (37)\ttotal: 6.98s\tremaining: 8.45s\n",
            "38:\tlearn: 0.7286384\ttest: 0.7999482\tbest: 0.7999482 (38)\ttotal: 7.16s\tremaining: 8.27s\n",
            "39:\tlearn: 0.7252882\ttest: 0.7977479\tbest: 0.7977479 (39)\ttotal: 7.34s\tremaining: 8.07s\n",
            "40:\tlearn: 0.7220745\ttest: 0.7954767\tbest: 0.7954767 (40)\ttotal: 7.56s\tremaining: 7.93s\n",
            "41:\tlearn: 0.7188337\ttest: 0.7933897\tbest: 0.7933897 (41)\ttotal: 7.75s\tremaining: 7.75s\n",
            "42:\tlearn: 0.7159528\ttest: 0.7914108\tbest: 0.7914108 (42)\ttotal: 7.94s\tremaining: 7.57s\n",
            "43:\tlearn: 0.7129962\ttest: 0.7895529\tbest: 0.7895529 (43)\ttotal: 8.13s\tremaining: 7.39s\n",
            "44:\tlearn: 0.7100562\ttest: 0.7879599\tbest: 0.7879599 (44)\ttotal: 8.31s\tremaining: 7.2s\n",
            "45:\tlearn: 0.7074480\ttest: 0.7861255\tbest: 0.7861255 (45)\ttotal: 8.49s\tremaining: 7.01s\n",
            "46:\tlearn: 0.7050058\ttest: 0.7845081\tbest: 0.7845081 (46)\ttotal: 8.67s\tremaining: 6.83s\n",
            "47:\tlearn: 0.7023873\ttest: 0.7829453\tbest: 0.7829453 (47)\ttotal: 8.86s\tremaining: 6.64s\n",
            "48:\tlearn: 0.6999899\ttest: 0.7814231\tbest: 0.7814231 (48)\ttotal: 9.05s\tremaining: 6.46s\n",
            "49:\tlearn: 0.6977560\ttest: 0.7801215\tbest: 0.7801215 (49)\ttotal: 9.22s\tremaining: 6.27s\n",
            "50:\tlearn: 0.6955612\ttest: 0.7785462\tbest: 0.7785462 (50)\ttotal: 9.43s\tremaining: 6.1s\n",
            "51:\tlearn: 0.6933997\ttest: 0.7773809\tbest: 0.7773809 (51)\ttotal: 9.61s\tremaining: 5.91s\n",
            "52:\tlearn: 0.6912793\ttest: 0.7763725\tbest: 0.7763725 (52)\ttotal: 9.8s\tremaining: 5.73s\n",
            "53:\tlearn: 0.6891701\ttest: 0.7755065\tbest: 0.7755065 (53)\ttotal: 10s\tremaining: 5.55s\n",
            "54:\tlearn: 0.6870998\ttest: 0.7744780\tbest: 0.7744780 (54)\ttotal: 10.2s\tremaining: 5.37s\n",
            "55:\tlearn: 0.6851389\ttest: 0.7737719\tbest: 0.7737719 (55)\ttotal: 10.4s\tremaining: 5.18s\n",
            "56:\tlearn: 0.6833800\ttest: 0.7728047\tbest: 0.7728047 (56)\ttotal: 10.5s\tremaining: 5s\n",
            "57:\tlearn: 0.6816246\ttest: 0.7717951\tbest: 0.7717951 (57)\ttotal: 10.7s\tremaining: 4.81s\n",
            "58:\tlearn: 0.6799776\ttest: 0.7710599\tbest: 0.7710599 (58)\ttotal: 10.9s\tremaining: 4.62s\n",
            "59:\tlearn: 0.6782791\ttest: 0.7702339\tbest: 0.7702339 (59)\ttotal: 11.1s\tremaining: 4.44s\n",
            "60:\tlearn: 0.6766890\ttest: 0.7694446\tbest: 0.7694446 (60)\ttotal: 11.3s\tremaining: 4.25s\n",
            "61:\tlearn: 0.6752498\ttest: 0.7686318\tbest: 0.7686318 (61)\ttotal: 11.4s\tremaining: 4.06s\n",
            "62:\tlearn: 0.6737522\ttest: 0.7680983\tbest: 0.7680983 (62)\ttotal: 11.6s\tremaining: 3.88s\n",
            "63:\tlearn: 0.6721512\ttest: 0.7675022\tbest: 0.7675022 (63)\ttotal: 11.8s\tremaining: 3.7s\n",
            "64:\tlearn: 0.6707597\ttest: 0.7668839\tbest: 0.7668839 (64)\ttotal: 12s\tremaining: 3.52s\n",
            "65:\tlearn: 0.6694257\ttest: 0.7662482\tbest: 0.7662482 (65)\ttotal: 12.2s\tremaining: 3.33s\n",
            "66:\tlearn: 0.6680468\ttest: 0.7659444\tbest: 0.7659444 (66)\ttotal: 12.4s\tremaining: 3.14s\n",
            "67:\tlearn: 0.6669358\ttest: 0.7651431\tbest: 0.7651431 (67)\ttotal: 12.6s\tremaining: 2.96s\n",
            "68:\tlearn: 0.6657371\ttest: 0.7646634\tbest: 0.7646634 (68)\ttotal: 12.8s\tremaining: 2.77s\n",
            "69:\tlearn: 0.6644799\ttest: 0.7644432\tbest: 0.7644432 (69)\ttotal: 12.9s\tremaining: 2.59s\n",
            "70:\tlearn: 0.6632464\ttest: 0.7642194\tbest: 0.7642194 (70)\ttotal: 13.1s\tremaining: 2.4s\n",
            "71:\tlearn: 0.6621515\ttest: 0.7638195\tbest: 0.7638195 (71)\ttotal: 13.3s\tremaining: 2.21s\n",
            "72:\tlearn: 0.6610147\ttest: 0.7633616\tbest: 0.7633616 (72)\ttotal: 13.5s\tremaining: 2.03s\n",
            "73:\tlearn: 0.6600830\ttest: 0.7630366\tbest: 0.7630366 (73)\ttotal: 13.7s\tremaining: 1.85s\n",
            "74:\tlearn: 0.6590960\ttest: 0.7625771\tbest: 0.7625771 (74)\ttotal: 13.8s\tremaining: 1.66s\n",
            "75:\tlearn: 0.6580750\ttest: 0.7621945\tbest: 0.7621945 (75)\ttotal: 14s\tremaining: 1.48s\n",
            "76:\tlearn: 0.6571698\ttest: 0.7618447\tbest: 0.7618447 (76)\ttotal: 14.2s\tremaining: 1.29s\n",
            "77:\tlearn: 0.6562908\ttest: 0.7617177\tbest: 0.7617177 (77)\ttotal: 14.4s\tremaining: 1.11s\n",
            "78:\tlearn: 0.6553986\ttest: 0.7613159\tbest: 0.7613159 (78)\ttotal: 14.6s\tremaining: 923ms\n",
            "79:\tlearn: 0.6544864\ttest: 0.7611825\tbest: 0.7611825 (79)\ttotal: 14.8s\tremaining: 739ms\n",
            "80:\tlearn: 0.6537411\ttest: 0.7609311\tbest: 0.7609311 (80)\ttotal: 15s\tremaining: 554ms\n",
            "81:\tlearn: 0.6530617\ttest: 0.7607080\tbest: 0.7607080 (81)\ttotal: 15.2s\tremaining: 370ms\n",
            "82:\tlearn: 0.6521678\ttest: 0.7608863\tbest: 0.7607080 (81)\ttotal: 15.3s\tremaining: 185ms\n",
            "83:\tlearn: 0.6514851\ttest: 0.7606019\tbest: 0.7606019 (83)\ttotal: 15.5s\tremaining: 0us\n",
            "\n",
            "bestTest = 0.7606018704\n",
            "bestIteration = 83\n",
            "\n"
          ],
          "name": "stdout"
        }
      ]
    },
    {
      "cell_type": "code",
      "metadata": {
        "id": "bi3igZe41Aj1",
        "colab_type": "code",
        "colab": {
          "base_uri": "https://localhost:8080/",
          "height": 258
        },
        "outputId": "f8bb1a9b-d857-4f2b-f7c9-eb5bbb6b2660"
      },
      "source": [
        "print('Train accuracy:')\n",
        "print(\n",
        "    sum(term_features.loc[term_features['train'] == True,'prediction'] == term_features.loc[term_features['train'] == True,'sentiment']) / len(term_features.loc[term_features['train'] == True])\n",
        ")\n",
        "\n",
        "print('Test accuracy:')\n",
        "print(\n",
        "    sum(term_features.loc[term_features['train'] == False,'prediction'] == term_features.loc[term_features['train'] == False,'sentiment']) / len(term_features.loc[term_features['train'] == False])\n",
        ")\n",
        "\n",
        "print('Test confusion matrix:')\n",
        "pd.crosstab(\n",
        "  term_features.loc[term_features['train'] == False,'sentiment'],\n",
        "  term_features.loc[term_features['train'] == False,'prediction'],\n",
        "  rownames=['Actual'], \n",
        "  colnames=['Predicted']\n",
        ")\n"
      ],
      "execution_count": 42,
      "outputs": [
        {
          "output_type": "display_data",
          "data": {
            "text/html": [
              "\n",
              "  <style>\n",
              "    pre {\n",
              "        white-space: pre-wrap;\n",
              "    }\n",
              "  </style>\n",
              "  "
            ],
            "text/plain": [
              "<IPython.core.display.HTML object>"
            ]
          },
          "metadata": {
            "tags": []
          }
        },
        {
          "output_type": "stream",
          "text": [
            "Train accuracy:\n",
            "0.7114989512567023\n",
            "Test accuracy:\n",
            "0.6645703504659539\n",
            "Test confusion matrix:\n"
          ],
          "name": "stdout"
        },
        {
          "output_type": "execute_result",
          "data": {
            "text/html": [
              "<div>\n",
              "<style scoped>\n",
              "    .dataframe tbody tr th:only-of-type {\n",
              "        vertical-align: middle;\n",
              "    }\n",
              "\n",
              "    .dataframe tbody tr th {\n",
              "        vertical-align: top;\n",
              "    }\n",
              "\n",
              "    .dataframe thead th {\n",
              "        text-align: right;\n",
              "    }\n",
              "</style>\n",
              "<table border=\"1\" class=\"dataframe\">\n",
              "  <thead>\n",
              "    <tr style=\"text-align: right;\">\n",
              "      <th>Predicted</th>\n",
              "      <th>Negative</th>\n",
              "      <th>Neutral</th>\n",
              "      <th>Positive</th>\n",
              "    </tr>\n",
              "    <tr>\n",
              "      <th>Actual</th>\n",
              "      <th></th>\n",
              "      <th></th>\n",
              "      <th></th>\n",
              "    </tr>\n",
              "  </thead>\n",
              "  <tbody>\n",
              "    <tr>\n",
              "      <th>Negative</th>\n",
              "      <td>7156</td>\n",
              "      <td>2000</td>\n",
              "      <td>3711</td>\n",
              "    </tr>\n",
              "    <tr>\n",
              "      <th>Neutral</th>\n",
              "      <td>2597</td>\n",
              "      <td>12720</td>\n",
              "      <td>8505</td>\n",
              "    </tr>\n",
              "    <tr>\n",
              "      <th>Positive</th>\n",
              "      <td>2275</td>\n",
              "      <td>4380</td>\n",
              "      <td>26620</td>\n",
              "    </tr>\n",
              "  </tbody>\n",
              "</table>\n",
              "</div>"
            ],
            "text/plain": [
              "Predicted  Negative  Neutral  Positive\n",
              "Actual                                \n",
              "Negative       7156     2000      3711\n",
              "Neutral        2597    12720      8505\n",
              "Positive       2275     4380     26620"
            ]
          },
          "metadata": {
            "tags": []
          },
          "execution_count": 42
        }
      ]
    }
  ]
}